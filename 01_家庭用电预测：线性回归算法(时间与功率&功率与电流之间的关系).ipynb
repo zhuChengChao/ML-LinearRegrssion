{
 "cells": [
  {
   "cell_type": "code",
   "execution_count": 2,
   "metadata": {},
   "outputs": [],
   "source": [
    "# 引入所需要的全部包\n",
    "from sklearn.model_selection import train_test_split # 数据划分的类\n",
    "from sklearn.linear_model import LinearRegression    # 线性回归的类\n",
    "from sklearn.preprocessing import StandardScaler     # 数据标准化\n",
    "\n",
    "import numpy as np\n",
    "import matplotlib as mpl\n",
    "import matplotlib.pyplot as plt\n",
    "import pandas as pd\n",
    "from pandas import DataFrame\n",
    "import time"
   ]
  },
  {
   "cell_type": "code",
   "execution_count": 3,
   "metadata": {},
   "outputs": [],
   "source": [
    "# 设置字符集，防止中文乱码\n",
    "mpl.rcParams['font.sans-serif']=[u'simHei']\n",
    "mpl.rcParams['axes.unicode_minus']=False"
   ]
  },
  {
   "cell_type": "code",
   "execution_count": 4,
   "metadata": {},
   "outputs": [],
   "source": [
    "# 加载数据\n",
    "# 日期、时间、有功功率、无功功率、电压、电流、厨房用电功率、洗衣服用电功率、热水器用电功率\n",
    "path1='datas/household_power_consumption_1000.txt'\n",
    "df = pd.read_csv(path1, sep=';', low_memory=False)  # 没有混合类型的时候可以通过low_memory=F调用更多内存，加快效率）"
   ]
  },
  {
   "cell_type": "code",
   "execution_count": 5,
   "metadata": {
    "scrolled": true
   },
   "outputs": [
    {
     "data": {
      "text/html": [
       "<div>\n",
       "<style scoped>\n",
       "    .dataframe tbody tr th:only-of-type {\n",
       "        vertical-align: middle;\n",
       "    }\n",
       "\n",
       "    .dataframe tbody tr th {\n",
       "        vertical-align: top;\n",
       "    }\n",
       "\n",
       "    .dataframe thead th {\n",
       "        text-align: right;\n",
       "    }\n",
       "</style>\n",
       "<table border=\"1\" class=\"dataframe\">\n",
       "  <thead>\n",
       "    <tr style=\"text-align: right;\">\n",
       "      <th></th>\n",
       "      <th>Date</th>\n",
       "      <th>Time</th>\n",
       "      <th>Global_active_power</th>\n",
       "      <th>Global_reactive_power</th>\n",
       "      <th>Voltage</th>\n",
       "      <th>Global_intensity</th>\n",
       "      <th>Sub_metering_1</th>\n",
       "      <th>Sub_metering_2</th>\n",
       "      <th>Sub_metering_3</th>\n",
       "    </tr>\n",
       "  </thead>\n",
       "  <tbody>\n",
       "    <tr>\n",
       "      <th>0</th>\n",
       "      <td>16/12/2006</td>\n",
       "      <td>17:24:00</td>\n",
       "      <td>4.216</td>\n",
       "      <td>0.418</td>\n",
       "      <td>234.84</td>\n",
       "      <td>18.4</td>\n",
       "      <td>0.0</td>\n",
       "      <td>1.0</td>\n",
       "      <td>17.0</td>\n",
       "    </tr>\n",
       "    <tr>\n",
       "      <th>1</th>\n",
       "      <td>16/12/2006</td>\n",
       "      <td>17:25:00</td>\n",
       "      <td>5.360</td>\n",
       "      <td>0.436</td>\n",
       "      <td>233.63</td>\n",
       "      <td>23.0</td>\n",
       "      <td>0.0</td>\n",
       "      <td>1.0</td>\n",
       "      <td>16.0</td>\n",
       "    </tr>\n",
       "    <tr>\n",
       "      <th>2</th>\n",
       "      <td>16/12/2006</td>\n",
       "      <td>17:26:00</td>\n",
       "      <td>5.374</td>\n",
       "      <td>0.498</td>\n",
       "      <td>233.29</td>\n",
       "      <td>23.0</td>\n",
       "      <td>0.0</td>\n",
       "      <td>2.0</td>\n",
       "      <td>17.0</td>\n",
       "    </tr>\n",
       "    <tr>\n",
       "      <th>3</th>\n",
       "      <td>16/12/2006</td>\n",
       "      <td>17:27:00</td>\n",
       "      <td>5.388</td>\n",
       "      <td>0.502</td>\n",
       "      <td>233.74</td>\n",
       "      <td>23.0</td>\n",
       "      <td>0.0</td>\n",
       "      <td>1.0</td>\n",
       "      <td>17.0</td>\n",
       "    </tr>\n",
       "    <tr>\n",
       "      <th>4</th>\n",
       "      <td>16/12/2006</td>\n",
       "      <td>17:28:00</td>\n",
       "      <td>3.666</td>\n",
       "      <td>0.528</td>\n",
       "      <td>235.68</td>\n",
       "      <td>15.8</td>\n",
       "      <td>0.0</td>\n",
       "      <td>1.0</td>\n",
       "      <td>17.0</td>\n",
       "    </tr>\n",
       "  </tbody>\n",
       "</table>\n",
       "</div>"
      ],
      "text/plain": [
       "         Date      Time  Global_active_power  Global_reactive_power  Voltage  \\\n",
       "0  16/12/2006  17:24:00                4.216                  0.418   234.84   \n",
       "1  16/12/2006  17:25:00                5.360                  0.436   233.63   \n",
       "2  16/12/2006  17:26:00                5.374                  0.498   233.29   \n",
       "3  16/12/2006  17:27:00                5.388                  0.502   233.74   \n",
       "4  16/12/2006  17:28:00                3.666                  0.528   235.68   \n",
       "\n",
       "   Global_intensity  Sub_metering_1  Sub_metering_2  Sub_metering_3  \n",
       "0              18.4             0.0             1.0            17.0  \n",
       "1              23.0             0.0             1.0            16.0  \n",
       "2              23.0             0.0             2.0            17.0  \n",
       "3              23.0             0.0             1.0            17.0  \n",
       "4              15.8             0.0             1.0            17.0  "
      ]
     },
     "execution_count": 5,
     "metadata": {},
     "output_type": "execute_result"
    }
   ],
   "source": [
    "df.head() ## 获取前五行数据查看查看"
   ]
  },
  {
   "cell_type": "code",
   "execution_count": 6,
   "metadata": {},
   "outputs": [
    {
     "name": "stdout",
     "output_type": "stream",
     "text": [
      "<class 'pandas.core.frame.DataFrame'>\n",
      "RangeIndex: 1000 entries, 0 to 999\n",
      "Data columns (total 9 columns):\n",
      "Date                     1000 non-null object\n",
      "Time                     1000 non-null object\n",
      "Global_active_power      1000 non-null float64\n",
      "Global_reactive_power    1000 non-null float64\n",
      "Voltage                  1000 non-null float64\n",
      "Global_intensity         1000 non-null float64\n",
      "Sub_metering_1           1000 non-null float64\n",
      "Sub_metering_2           1000 non-null float64\n",
      "Sub_metering_3           1000 non-null float64\n",
      "dtypes: float64(7), object(2)\n",
      "memory usage: 70.4+ KB\n"
     ]
    }
   ],
   "source": [
    "# 查看格式信息\n",
    "df.info()"
   ]
  },
  {
   "cell_type": "code",
   "execution_count": 7,
   "metadata": {},
   "outputs": [
    {
     "data": {
      "text/html": [
       "<div>\n",
       "<style scoped>\n",
       "    .dataframe tbody tr th:only-of-type {\n",
       "        vertical-align: middle;\n",
       "    }\n",
       "\n",
       "    .dataframe tbody tr th {\n",
       "        vertical-align: top;\n",
       "    }\n",
       "\n",
       "    .dataframe thead th {\n",
       "        text-align: right;\n",
       "    }\n",
       "</style>\n",
       "<table border=\"1\" class=\"dataframe\">\n",
       "  <thead>\n",
       "    <tr style=\"text-align: right;\">\n",
       "      <th></th>\n",
       "      <th>count</th>\n",
       "      <th>mean</th>\n",
       "      <th>std</th>\n",
       "      <th>min</th>\n",
       "      <th>25%</th>\n",
       "      <th>50%</th>\n",
       "      <th>75%</th>\n",
       "      <th>max</th>\n",
       "    </tr>\n",
       "  </thead>\n",
       "  <tbody>\n",
       "    <tr>\n",
       "      <th>Global_active_power</th>\n",
       "      <td>1000.0</td>\n",
       "      <td>2.418772</td>\n",
       "      <td>1.239979</td>\n",
       "      <td>0.206</td>\n",
       "      <td>1.806</td>\n",
       "      <td>2.414</td>\n",
       "      <td>3.308</td>\n",
       "      <td>7.706</td>\n",
       "    </tr>\n",
       "    <tr>\n",
       "      <th>Global_reactive_power</th>\n",
       "      <td>1000.0</td>\n",
       "      <td>0.089232</td>\n",
       "      <td>0.088088</td>\n",
       "      <td>0.000</td>\n",
       "      <td>0.000</td>\n",
       "      <td>0.072</td>\n",
       "      <td>0.126</td>\n",
       "      <td>0.528</td>\n",
       "    </tr>\n",
       "    <tr>\n",
       "      <th>Voltage</th>\n",
       "      <td>1000.0</td>\n",
       "      <td>240.035790</td>\n",
       "      <td>4.084420</td>\n",
       "      <td>230.980</td>\n",
       "      <td>236.940</td>\n",
       "      <td>240.650</td>\n",
       "      <td>243.295</td>\n",
       "      <td>249.370</td>\n",
       "    </tr>\n",
       "    <tr>\n",
       "      <th>Global_intensity</th>\n",
       "      <td>1000.0</td>\n",
       "      <td>10.351000</td>\n",
       "      <td>5.122214</td>\n",
       "      <td>0.800</td>\n",
       "      <td>8.400</td>\n",
       "      <td>10.000</td>\n",
       "      <td>14.000</td>\n",
       "      <td>33.200</td>\n",
       "    </tr>\n",
       "    <tr>\n",
       "      <th>Sub_metering_1</th>\n",
       "      <td>1000.0</td>\n",
       "      <td>0.000000</td>\n",
       "      <td>0.000000</td>\n",
       "      <td>0.000</td>\n",
       "      <td>0.000</td>\n",
       "      <td>0.000</td>\n",
       "      <td>0.000</td>\n",
       "      <td>0.000</td>\n",
       "    </tr>\n",
       "    <tr>\n",
       "      <th>Sub_metering_2</th>\n",
       "      <td>1000.0</td>\n",
       "      <td>2.749000</td>\n",
       "      <td>8.104053</td>\n",
       "      <td>0.000</td>\n",
       "      <td>0.000</td>\n",
       "      <td>0.000</td>\n",
       "      <td>1.000</td>\n",
       "      <td>38.000</td>\n",
       "    </tr>\n",
       "    <tr>\n",
       "      <th>Sub_metering_3</th>\n",
       "      <td>1000.0</td>\n",
       "      <td>5.756000</td>\n",
       "      <td>8.066941</td>\n",
       "      <td>0.000</td>\n",
       "      <td>0.000</td>\n",
       "      <td>0.000</td>\n",
       "      <td>17.000</td>\n",
       "      <td>19.000</td>\n",
       "    </tr>\n",
       "  </tbody>\n",
       "</table>\n",
       "</div>"
      ],
      "text/plain": [
       "                        count        mean       std      min      25%  \\\n",
       "Global_active_power    1000.0    2.418772  1.239979    0.206    1.806   \n",
       "Global_reactive_power  1000.0    0.089232  0.088088    0.000    0.000   \n",
       "Voltage                1000.0  240.035790  4.084420  230.980  236.940   \n",
       "Global_intensity       1000.0   10.351000  5.122214    0.800    8.400   \n",
       "Sub_metering_1         1000.0    0.000000  0.000000    0.000    0.000   \n",
       "Sub_metering_2         1000.0    2.749000  8.104053    0.000    0.000   \n",
       "Sub_metering_3         1000.0    5.756000  8.066941    0.000    0.000   \n",
       "\n",
       "                           50%      75%      max  \n",
       "Global_active_power      2.414    3.308    7.706  \n",
       "Global_reactive_power    0.072    0.126    0.528  \n",
       "Voltage                240.650  243.295  249.370  \n",
       "Global_intensity        10.000   14.000   33.200  \n",
       "Sub_metering_1           0.000    0.000    0.000  \n",
       "Sub_metering_2           0.000    1.000   38.000  \n",
       "Sub_metering_3           0.000   17.000   19.000  "
      ]
     },
     "execution_count": 7,
     "metadata": {},
     "output_type": "execute_result"
    }
   ],
   "source": [
    "# 异常数据处理(异常数据过滤)\n",
    "new_df = df.replace('?', np.nan)            # 替换非法字符为np.nan\n",
    "datas = new_df.dropna(axis=0, how = 'any')  # 只要有一个数据为空，就进行行删除操作\n",
    "datas.describe().T                          # 观察数据的多种统计指标(只能看数值型的)"
   ]
  },
  {
   "cell_type": "code",
   "execution_count": 8,
   "metadata": {},
   "outputs": [
    {
     "name": "stdout",
     "output_type": "stream",
     "text": [
      "<class 'pandas.core.frame.DataFrame'>\n",
      "RangeIndex: 1000 entries, 0 to 999\n",
      "Data columns (total 9 columns):\n",
      "Date                     1000 non-null object\n",
      "Time                     1000 non-null object\n",
      "Global_active_power      1000 non-null float64\n",
      "Global_reactive_power    1000 non-null float64\n",
      "Voltage                  1000 non-null float64\n",
      "Global_intensity         1000 non-null float64\n",
      "Sub_metering_1           1000 non-null float64\n",
      "Sub_metering_2           1000 non-null float64\n",
      "Sub_metering_3           1000 non-null float64\n",
      "dtypes: float64(7), object(2)\n",
      "memory usage: 70.4+ KB\n"
     ]
    }
   ],
   "source": [
    "# 再次查看格式信息\n",
    "df.info()"
   ]
  },
  {
   "cell_type": "code",
   "execution_count": 9,
   "metadata": {},
   "outputs": [],
   "source": [
    "## 创建一个时间函数格式化字符串\n",
    "def date_format(dt):\n",
    "    # dt显示是一个series/tuple；dt[0]是date，dt[1]是time\n",
    "    import time\n",
    "    # Python time strptime() 函数根据指定的格式把一个时间字符串解析为时间元组。\n",
    "    t = time.strptime(' '.join(dt), '%d/%m/%Y %H:%M:%S')\n",
    "    return (t.tm_year, t.tm_mon, t.tm_mday, t.tm_hour, t.tm_min, t.tm_sec)"
   ]
  },
  {
   "cell_type": "code",
   "execution_count": 10,
   "metadata": {
    "scrolled": true
   },
   "outputs": [],
   "source": [
    "## 需求：构建时间和功率之间的映射关系，可以认为：特征属性为时间；目标属性为功率值。\n",
    "# 获取x和y变量, 并将时间转换为数值型连续变量\n",
    "X = datas.iloc[:,0:2]\n",
    "X = X.apply(lambda x: pd.Series(date_format(x)), axis=1)\n",
    "Y = datas['Global_active_power']"
   ]
  },
  {
   "cell_type": "code",
   "execution_count": 11,
   "metadata": {
    "scrolled": true
   },
   "outputs": [
    {
     "data": {
      "text/html": [
       "<div>\n",
       "<style scoped>\n",
       "    .dataframe tbody tr th:only-of-type {\n",
       "        vertical-align: middle;\n",
       "    }\n",
       "\n",
       "    .dataframe tbody tr th {\n",
       "        vertical-align: top;\n",
       "    }\n",
       "\n",
       "    .dataframe thead th {\n",
       "        text-align: right;\n",
       "    }\n",
       "</style>\n",
       "<table border=\"1\" class=\"dataframe\">\n",
       "  <thead>\n",
       "    <tr style=\"text-align: right;\">\n",
       "      <th></th>\n",
       "      <th>0</th>\n",
       "      <th>1</th>\n",
       "      <th>2</th>\n",
       "      <th>3</th>\n",
       "      <th>4</th>\n",
       "      <th>5</th>\n",
       "    </tr>\n",
       "  </thead>\n",
       "  <tbody>\n",
       "    <tr>\n",
       "      <th>0</th>\n",
       "      <td>2006</td>\n",
       "      <td>12</td>\n",
       "      <td>16</td>\n",
       "      <td>17</td>\n",
       "      <td>24</td>\n",
       "      <td>0</td>\n",
       "    </tr>\n",
       "    <tr>\n",
       "      <th>1</th>\n",
       "      <td>2006</td>\n",
       "      <td>12</td>\n",
       "      <td>16</td>\n",
       "      <td>17</td>\n",
       "      <td>25</td>\n",
       "      <td>0</td>\n",
       "    </tr>\n",
       "  </tbody>\n",
       "</table>\n",
       "</div>"
      ],
      "text/plain": [
       "      0   1   2   3   4  5\n",
       "0  2006  12  16  17  24  0\n",
       "1  2006  12  16  17  25  0"
      ]
     },
     "execution_count": 11,
     "metadata": {},
     "output_type": "execute_result"
    }
   ],
   "source": [
    "X.head(2)"
   ]
  },
  {
   "cell_type": "code",
   "execution_count": 12,
   "metadata": {},
   "outputs": [],
   "source": [
    "## 对数据集进行测试集合训练集划分\n",
    "# X：特征矩阵(类型一般是DataFrame)\n",
    "# Y：特征对应的Label标签(类型一般是Series)\n",
    "# test_size: 对X/Y进行划分的时候，测试集合的数据占比, 是一个(0,1)之间的float类型的值\n",
    "# random_state: 数据分割是基于随机器进行分割的，该参数给定随机数种子；给一个值(int类型)的作用就是保证每次分割所产生的数数据集是完全相同的\n",
    "X_train, X_test, Y_train, Y_test = train_test_split(X, Y, test_size=0.2, random_state=0)"
   ]
  },
  {
   "cell_type": "code",
   "execution_count": 14,
   "metadata": {},
   "outputs": [
    {
     "name": "stdout",
     "output_type": "stream",
     "text": [
      "X训练集形状： (800, 6)\n",
      "X测试集形状： (200, 6)\n",
      "Y训练集： (800,)\n"
     ]
    }
   ],
   "source": [
    "print(\"X训练集形状：\", X_train.shape)\n",
    "print(\"X测试集形状：\", X_test.shape)\n",
    "print(\"Y训练集：\", Y_train.shape)"
   ]
  },
  {
   "cell_type": "code",
   "execution_count": 15,
   "metadata": {},
   "outputs": [
    {
     "data": {
      "text/html": [
       "<div>\n",
       "<style scoped>\n",
       "    .dataframe tbody tr th:only-of-type {\n",
       "        vertical-align: middle;\n",
       "    }\n",
       "\n",
       "    .dataframe tbody tr th {\n",
       "        vertical-align: top;\n",
       "    }\n",
       "\n",
       "    .dataframe thead th {\n",
       "        text-align: right;\n",
       "    }\n",
       "</style>\n",
       "<table border=\"1\" class=\"dataframe\">\n",
       "  <thead>\n",
       "    <tr style=\"text-align: right;\">\n",
       "      <th></th>\n",
       "      <th>0</th>\n",
       "      <th>1</th>\n",
       "      <th>2</th>\n",
       "      <th>3</th>\n",
       "      <th>4</th>\n",
       "      <th>5</th>\n",
       "    </tr>\n",
       "  </thead>\n",
       "  <tbody>\n",
       "    <tr>\n",
       "      <th>count</th>\n",
       "      <td>800.0</td>\n",
       "      <td>800.0</td>\n",
       "      <td>800.000000</td>\n",
       "      <td>800.000000</td>\n",
       "      <td>800.000000</td>\n",
       "      <td>800.0</td>\n",
       "    </tr>\n",
       "    <tr>\n",
       "      <th>mean</th>\n",
       "      <td>2006.0</td>\n",
       "      <td>12.0</td>\n",
       "      <td>16.598750</td>\n",
       "      <td>10.755000</td>\n",
       "      <td>29.723750</td>\n",
       "      <td>0.0</td>\n",
       "    </tr>\n",
       "    <tr>\n",
       "      <th>std</th>\n",
       "      <td>0.0</td>\n",
       "      <td>0.0</td>\n",
       "      <td>0.490458</td>\n",
       "      <td>8.068386</td>\n",
       "      <td>17.266517</td>\n",
       "      <td>0.0</td>\n",
       "    </tr>\n",
       "    <tr>\n",
       "      <th>min</th>\n",
       "      <td>2006.0</td>\n",
       "      <td>12.0</td>\n",
       "      <td>16.000000</td>\n",
       "      <td>0.000000</td>\n",
       "      <td>0.000000</td>\n",
       "      <td>0.0</td>\n",
       "    </tr>\n",
       "    <tr>\n",
       "      <th>25%</th>\n",
       "      <td>2006.0</td>\n",
       "      <td>12.0</td>\n",
       "      <td>16.000000</td>\n",
       "      <td>4.000000</td>\n",
       "      <td>15.000000</td>\n",
       "      <td>0.0</td>\n",
       "    </tr>\n",
       "    <tr>\n",
       "      <th>50%</th>\n",
       "      <td>2006.0</td>\n",
       "      <td>12.0</td>\n",
       "      <td>17.000000</td>\n",
       "      <td>8.000000</td>\n",
       "      <td>30.000000</td>\n",
       "      <td>0.0</td>\n",
       "    </tr>\n",
       "    <tr>\n",
       "      <th>75%</th>\n",
       "      <td>2006.0</td>\n",
       "      <td>12.0</td>\n",
       "      <td>17.000000</td>\n",
       "      <td>19.000000</td>\n",
       "      <td>45.000000</td>\n",
       "      <td>0.0</td>\n",
       "    </tr>\n",
       "    <tr>\n",
       "      <th>max</th>\n",
       "      <td>2006.0</td>\n",
       "      <td>12.0</td>\n",
       "      <td>17.000000</td>\n",
       "      <td>23.000000</td>\n",
       "      <td>59.000000</td>\n",
       "      <td>0.0</td>\n",
       "    </tr>\n",
       "  </tbody>\n",
       "</table>\n",
       "</div>"
      ],
      "text/plain": [
       "            0      1           2           3           4      5\n",
       "count   800.0  800.0  800.000000  800.000000  800.000000  800.0\n",
       "mean   2006.0   12.0   16.598750   10.755000   29.723750    0.0\n",
       "std       0.0    0.0    0.490458    8.068386   17.266517    0.0\n",
       "min    2006.0   12.0   16.000000    0.000000    0.000000    0.0\n",
       "25%    2006.0   12.0   16.000000    4.000000   15.000000    0.0\n",
       "50%    2006.0   12.0   17.000000    8.000000   30.000000    0.0\n",
       "75%    2006.0   12.0   17.000000   19.000000   45.000000    0.0\n",
       "max    2006.0   12.0   17.000000   23.000000   59.000000    0.0"
      ]
     },
     "execution_count": 15,
     "metadata": {},
     "output_type": "execute_result"
    }
   ],
   "source": [
    "# 查看训练集上的数据信息(X)\n",
    "X_train.describe()"
   ]
  },
  {
   "cell_type": "code",
   "execution_count": 16,
   "metadata": {},
   "outputs": [],
   "source": [
    "## 数据标准化\n",
    "# StandardScaler：将数据转换为标准差为1的数据集(有一个数据的映射)\n",
    "# scikit-learn中：如果一个API名字有fit，那么就有模型训练的含义，没返回值\n",
    "# scikit-learn中：如果一个API名字中有transform， 那么就表示对数据具有转换的含义操作\n",
    "# scikit-learn中：如果一个API名字中有predict，那么就表示进行数据预测，会有一个预测结果输出\n",
    "# scikit-learn中：如果一个API名字中既有fit又有transform的情况下，那就是两者的结合(先做fit，再做transform)\n",
    "ss = StandardScaler() # 模型对象创建\n",
    "# ss.fit(X_train) # 模型训练\n",
    "# X_train = xx.transform(X_train) # 对训练集合数据进行转换\n",
    "X_train = ss.fit_transform(X_train) # 训练模型并转换训练集\n",
    "X_test = ss.transform(X_test) ## 直接使用在模型构建数据上进行一个数据标准化操作 (测试集)"
   ]
  },
  {
   "cell_type": "code",
   "execution_count": 17,
   "metadata": {},
   "outputs": [
    {
     "data": {
      "text/html": [
       "<div>\n",
       "<style scoped>\n",
       "    .dataframe tbody tr th:only-of-type {\n",
       "        vertical-align: middle;\n",
       "    }\n",
       "\n",
       "    .dataframe tbody tr th {\n",
       "        vertical-align: top;\n",
       "    }\n",
       "\n",
       "    .dataframe thead th {\n",
       "        text-align: right;\n",
       "    }\n",
       "</style>\n",
       "<table border=\"1\" class=\"dataframe\">\n",
       "  <thead>\n",
       "    <tr style=\"text-align: right;\">\n",
       "      <th></th>\n",
       "      <th>0</th>\n",
       "      <th>1</th>\n",
       "      <th>2</th>\n",
       "      <th>3</th>\n",
       "      <th>4</th>\n",
       "      <th>5</th>\n",
       "    </tr>\n",
       "  </thead>\n",
       "  <tbody>\n",
       "    <tr>\n",
       "      <th>count</th>\n",
       "      <td>800.0</td>\n",
       "      <td>800.0</td>\n",
       "      <td>8.000000e+02</td>\n",
       "      <td>8.000000e+02</td>\n",
       "      <td>8.000000e+02</td>\n",
       "      <td>800.0</td>\n",
       "    </tr>\n",
       "    <tr>\n",
       "      <th>mean</th>\n",
       "      <td>0.0</td>\n",
       "      <td>0.0</td>\n",
       "      <td>2.196299e-15</td>\n",
       "      <td>-8.604228e-17</td>\n",
       "      <td>3.691492e-17</td>\n",
       "      <td>0.0</td>\n",
       "    </tr>\n",
       "    <tr>\n",
       "      <th>std</th>\n",
       "      <td>0.0</td>\n",
       "      <td>0.0</td>\n",
       "      <td>1.000626e+00</td>\n",
       "      <td>1.000626e+00</td>\n",
       "      <td>1.000626e+00</td>\n",
       "      <td>0.0</td>\n",
       "    </tr>\n",
       "    <tr>\n",
       "      <th>min</th>\n",
       "      <td>0.0</td>\n",
       "      <td>0.0</td>\n",
       "      <td>-1.221561e+00</td>\n",
       "      <td>-1.333814e+00</td>\n",
       "      <td>-1.722545e+00</td>\n",
       "      <td>0.0</td>\n",
       "    </tr>\n",
       "    <tr>\n",
       "      <th>25%</th>\n",
       "      <td>0.0</td>\n",
       "      <td>0.0</td>\n",
       "      <td>-1.221561e+00</td>\n",
       "      <td>-8.377420e-01</td>\n",
       "      <td>-8.532677e-01</td>\n",
       "      <td>0.0</td>\n",
       "    </tr>\n",
       "    <tr>\n",
       "      <th>50%</th>\n",
       "      <td>0.0</td>\n",
       "      <td>0.0</td>\n",
       "      <td>8.186245e-01</td>\n",
       "      <td>-3.416698e-01</td>\n",
       "      <td>1.600918e-02</td>\n",
       "      <td>0.0</td>\n",
       "    </tr>\n",
       "    <tr>\n",
       "      <th>75%</th>\n",
       "      <td>0.0</td>\n",
       "      <td>0.0</td>\n",
       "      <td>8.186245e-01</td>\n",
       "      <td>1.022529e+00</td>\n",
       "      <td>8.852861e-01</td>\n",
       "      <td>0.0</td>\n",
       "    </tr>\n",
       "    <tr>\n",
       "      <th>max</th>\n",
       "      <td>0.0</td>\n",
       "      <td>0.0</td>\n",
       "      <td>8.186245e-01</td>\n",
       "      <td>1.518601e+00</td>\n",
       "      <td>1.696611e+00</td>\n",
       "      <td>0.0</td>\n",
       "    </tr>\n",
       "  </tbody>\n",
       "</table>\n",
       "</div>"
      ],
      "text/plain": [
       "           0      1             2             3             4      5\n",
       "count  800.0  800.0  8.000000e+02  8.000000e+02  8.000000e+02  800.0\n",
       "mean     0.0    0.0  2.196299e-15 -8.604228e-17  3.691492e-17    0.0\n",
       "std      0.0    0.0  1.000626e+00  1.000626e+00  1.000626e+00    0.0\n",
       "min      0.0    0.0 -1.221561e+00 -1.333814e+00 -1.722545e+00    0.0\n",
       "25%      0.0    0.0 -1.221561e+00 -8.377420e-01 -8.532677e-01    0.0\n",
       "50%      0.0    0.0  8.186245e-01 -3.416698e-01  1.600918e-02    0.0\n",
       "75%      0.0    0.0  8.186245e-01  1.022529e+00  8.852861e-01    0.0\n",
       "max      0.0    0.0  8.186245e-01  1.518601e+00  1.696611e+00    0.0"
      ]
     },
     "execution_count": 17,
     "metadata": {},
     "output_type": "execute_result"
    }
   ],
   "source": [
    "# 经过标准化后均值为0，方差为1\n",
    "pd.DataFrame(X_train).describe()"
   ]
  },
  {
   "cell_type": "code",
   "execution_count": 18,
   "metadata": {
    "scrolled": true
   },
   "outputs": [
    {
     "name": "stdout",
     "output_type": "stream",
     "text": [
      "训练集上R2: 0.24409311805909026\n",
      "测试集上R2: 0.12551628513735846\n",
      "rmse: 1.164092345973625\n"
     ]
    }
   ],
   "source": [
    "## 模型训练\n",
    "lr = LinearRegression(fit_intercept=True) # 模型对象构建\n",
    "lr.fit(X_train, Y_train) ## 训练模型\n",
    "## 模型校验\n",
    "y_predict = lr.predict(X_test) ## 预测结果\n",
    "\n",
    "print(\"训练集上R2:\",lr.score(X_train, Y_train))\n",
    "print(\"测试集上R2:\",lr.score(X_test, Y_test))\n",
    "mse = np.average((y_predict-Y_test)**2)\n",
    "rmse = np.sqrt(mse)\n",
    "print(\"rmse:\",rmse)"
   ]
  },
  {
   "cell_type": "code",
   "execution_count": 19,
   "metadata": {},
   "outputs": [
    {
     "name": "stdout",
     "output_type": "stream",
     "text": [
      "模型的系数(θ):[ 0.00000000e+00 -1.66533454e-16 -1.41588166e+00 -9.34953243e-01\n",
      " -1.02140756e-01  0.00000000e+00]\n",
      "模型的截距:2.4454375000000024\n"
     ]
    }
   ],
   "source": [
    "# 输出模型训练得到的相关参数\n",
    "print(\"模型的系数(θ):\", end=\"\")\n",
    "print(lr.coef_)\n",
    "print(\"模型的截距:\", end='')\n",
    "print(lr.intercept_)"
   ]
  },
  {
   "cell_type": "code",
   "execution_count": 23,
   "metadata": {},
   "outputs": [
    {
     "data": {
      "text/plain": [
       "['result/data_lr.model']"
      ]
     },
     "execution_count": 23,
     "metadata": {},
     "output_type": "execute_result"
    }
   ],
   "source": [
    "## 模型保存/持久化\n",
    "# 在机器学习部署的时候，实际上其中一种方式就是将模型进行输出；另外一种方式就是直接将预测结果输出\n",
    "# 模型输出一般是将模型输出到磁盘文件\n",
    "from sklearn.externals import joblib\n",
    "\n",
    "# 保存模型要求给定的文件所在的文件夹必须存在\n",
    "joblib.dump(ss, \"result/data_ss.model\") ## 将标准化模型保存\n",
    "joblib.dump(lr, \"result/data_lr.model\") ## 将模型保存"
   ]
  },
  {
   "cell_type": "code",
   "execution_count": 24,
   "metadata": {},
   "outputs": [
    {
     "name": "stdout",
     "output_type": "stream",
     "text": [
      "[[ 0.          0.          0.81862454  0.15440249 -0.27374978  0.        ]]\n"
     ]
    },
    {
     "data": {
      "text/plain": [
       "array([1.16996393])"
      ]
     },
     "execution_count": 24,
     "metadata": {},
     "output_type": "execute_result"
    }
   ],
   "source": [
    "# 加载模型\n",
    "ss3 = joblib.load(\"result/data_ss.model\") ## 加载模型\n",
    "lr3 = joblib.load(\"result/data_lr.model\") ## 加载模型\n",
    "\n",
    "# 使用加载的模型进行预测\n",
    "data1 = [[2006, 12, 17, 12, 25, 0]]\n",
    "data1 = ss3.transform(data1)\n",
    "print(data1)\n",
    "lr3.predict(data1)"
   ]
  },
  {
   "cell_type": "code",
   "execution_count": 25,
   "metadata": {
    "scrolled": true
   },
   "outputs": [
    {
     "data": {
      "image/png": "[encoded data removed]",
      "text/plain": [
       "<Figure size 432x288 with 1 Axes>"
      ]
     },
     "metadata": {},
     "output_type": "display_data"
    }
   ],
   "source": [
    "## 预测值和实际值画图比较\n",
    "t = np.arange(len(X_test))\n",
    "plt.figure(facecolor='w')  # 建一个画布，facecolor是背景色\n",
    "plt.plot(t, Y_test, 'r-', linewidth=2, label='真实值')\n",
    "plt.plot(t, y_predict, 'g-', linewidth=2, label='预测值')\n",
    "plt.legend(loc = 'upper left')  # 显示图例，设置图例的位置\n",
    "plt.title(\"线性回归预测时间和功率之间的关系\", fontsize=20)\n",
    "plt.grid(b=True)#加网格\n",
    "plt.show()"
   ]
  },
  {
   "cell_type": "code",
   "execution_count": 26,
   "metadata": {},
   "outputs": [
    {
     "name": "stdout",
     "output_type": "stream",
     "text": [
      "电流预测准确率:  0.9920420609708968\n",
      "电流参数: [5.07744316 0.07191391]\n"
     ]
    },
    {
     "data": {
      "image/png": "[encoded data removed]",
      "text/plain": [
       "<Figure size 432x288 with 1 Axes>"
      ]
     },
     "metadata": {},
     "output_type": "display_data"
    }
   ],
   "source": [
    "## 功率和电流之间的关系\n",
    "X = datas.iloc[:,2:4]\n",
    "Y2 = datas.iloc[:,5]\n",
    "\n",
    "## 数据分割\n",
    "X2_train, X2_test, Y2_train, Y2_test = train_test_split(X, Y2, test_size=0.2, random_state=0)\n",
    "\n",
    "## 数据归一化\n",
    "scaler2 = StandardScaler()\n",
    "X2_train = scaler2.fit_transform(X2_train)  # 训练并转换\n",
    "X2_test = scaler2.transform(X2_test)  ## 直接使用在模型构建数据上进行一个数据标准化操作 \n",
    "\n",
    "## 模型训练\n",
    "lr2 = LinearRegression()\n",
    "lr2.fit(X2_train, Y2_train) ## 训练模型\n",
    "\n",
    "## 结果预测\n",
    "Y2_predict = lr2.predict(X2_test)\n",
    "\n",
    "## 模型评估\n",
    "print(\"电流预测准确率: \", lr2.score(X2_test,Y2_test))\n",
    "print(\"电流参数:\", lr2.coef_)\n",
    "\n",
    "## 绘制图表\n",
    "#### 电流关系\n",
    "t = np.arange(len(X2_test))\n",
    "plt.figure(facecolor='w')\n",
    "plt.plot(t, Y2_test, 'r-', linewidth=2, label=u'真实值')\n",
    "plt.plot(t, Y2_predict, 'g-', linewidth=2, label=u'预测值')\n",
    "plt.legend(loc = 'lower right')\n",
    "plt.title(u\"线性回归预测功率与电流之间的关系\", fontsize=20)\n",
    "plt.grid(b=True)\n",
    "plt.show()"
   ]
  },
  {
   "cell_type": "code",
   "execution_count": null,
   "metadata": {
    "collapsed": true
   },
   "outputs": [],
   "source": []
  }
 ],
 "metadata": {
  "anaconda-cloud": {},
  "kernelspec": {
   "display_name": "Python 3",
   "language": "python",
   "name": "python3"
  },
  "language_info": {
   "codemirror_mode": {
    "name": "ipython",
    "version": 3
   },
   "file_extension": ".py",
   "mimetype": "text/x-python",
   "name": "python",
   "nbconvert_exporter": "python",
   "pygments_lexer": "ipython3",
   "version": "3.7.3"
  }
 },
 "nbformat": 4,
 "nbformat_minor": 1
}
